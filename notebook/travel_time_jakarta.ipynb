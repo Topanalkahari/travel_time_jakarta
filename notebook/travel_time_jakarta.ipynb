{
 "cells": [
  {
   "cell_type": "code",
   "execution_count": 1,
   "id": "d9f37b53-58fc-4828-b20c-ddec7ecbdf65",
   "metadata": {},
   "outputs": [],
   "source": [
    "import pandas as pd\n",
    "import numpy as np\n",
    "%matplotlib inline\n",
    "import matplotlib.pyplot as plt\n",
    "import seaborn as sns\n",
    "from sklearn.model_selection import train_test_split\n",
    "from sklearn.preprocessing import OneHotEncoder, StandardScaler, MinMaxScaler\n",
    "from sklearn.metrics import mean_absolute_error, mean_squared_error, make_scorer, r2_score\n",
    "import warnings\n",
    "warnings.filterwarnings('ignore')"
   ]
  },
  {
   "cell_type": "code",
   "execution_count": 3,
   "id": "78843ca7-8428-43ac-b2f0-1b4bd725bfc0",
   "metadata": {},
   "outputs": [
    {
     "data": {
      "text/html": [
       "<div>\n",
       "<style scoped>\n",
       "    .dataframe tbody tr th:only-of-type {\n",
       "        vertical-align: middle;\n",
       "    }\n",
       "\n",
       "    .dataframe tbody tr th {\n",
       "        vertical-align: top;\n",
       "    }\n",
       "\n",
       "    .dataframe thead th {\n",
       "        text-align: right;\n",
       "    }\n",
       "</style>\n",
       "<table border=\"1\" class=\"dataframe\">\n",
       "  <thead>\n",
       "    <tr style=\"text-align: right;\">\n",
       "      <th></th>\n",
       "      <th>start_point</th>\n",
       "      <th>end_point</th>\n",
       "      <th>time_of_day</th>\n",
       "      <th>day_of_week</th>\n",
       "      <th>traffic_condition</th>\n",
       "      <th>event_count</th>\n",
       "      <th>is_holiday</th>\n",
       "      <th>vehicle_density</th>\n",
       "      <th>population_density</th>\n",
       "      <th>weather</th>\n",
       "      <th>public_transport_availability</th>\n",
       "      <th>historical_delay_factor</th>\n",
       "      <th>travel_time</th>\n",
       "    </tr>\n",
       "  </thead>\n",
       "  <tbody>\n",
       "    <tr>\n",
       "      <th>0</th>\n",
       "      <td>West Jakarta (Jakarta Barat)</td>\n",
       "      <td>South Jakarta (Jakarta Selatan)</td>\n",
       "      <td>day</td>\n",
       "      <td>Sunday</td>\n",
       "      <td>NaN</td>\n",
       "      <td>9</td>\n",
       "      <td>1</td>\n",
       "      <td>NaN</td>\n",
       "      <td>high</td>\n",
       "      <td>NaN</td>\n",
       "      <td>1</td>\n",
       "      <td>0.878909</td>\n",
       "      <td>26.907612</td>\n",
       "    </tr>\n",
       "    <tr>\n",
       "      <th>1</th>\n",
       "      <td>West Jakarta (Jakarta Barat)</td>\n",
       "      <td>South Jakarta (Jakarta Selatan)</td>\n",
       "      <td>morning</td>\n",
       "      <td>Thursday</td>\n",
       "      <td>NaN</td>\n",
       "      <td>7</td>\n",
       "      <td>1</td>\n",
       "      <td>medium</td>\n",
       "      <td>high</td>\n",
       "      <td>NaN</td>\n",
       "      <td>1</td>\n",
       "      <td>1.081668</td>\n",
       "      <td>27.489129</td>\n",
       "    </tr>\n",
       "    <tr>\n",
       "      <th>2</th>\n",
       "      <td>Central Jakarta (Jakarta Pusat)</td>\n",
       "      <td>East Jakarta (Jakarta Timur)</td>\n",
       "      <td>morning</td>\n",
       "      <td>Thursday</td>\n",
       "      <td>NaN</td>\n",
       "      <td>7</td>\n",
       "      <td>0</td>\n",
       "      <td>medium</td>\n",
       "      <td>low</td>\n",
       "      <td>NaN</td>\n",
       "      <td>2</td>\n",
       "      <td>1.192379</td>\n",
       "      <td>27.228978</td>\n",
       "    </tr>\n",
       "    <tr>\n",
       "      <th>3</th>\n",
       "      <td>West Jakarta (Jakarta Barat)</td>\n",
       "      <td>South Jakarta (Jakarta Selatan)</td>\n",
       "      <td>morning</td>\n",
       "      <td>Friday</td>\n",
       "      <td>10.0</td>\n",
       "      <td>9</td>\n",
       "      <td>0</td>\n",
       "      <td>medium</td>\n",
       "      <td>high</td>\n",
       "      <td>fog</td>\n",
       "      <td>1</td>\n",
       "      <td>0.833348</td>\n",
       "      <td>33.943970</td>\n",
       "    </tr>\n",
       "    <tr>\n",
       "      <th>4</th>\n",
       "      <td>Central Jakarta (Jakarta Pusat)</td>\n",
       "      <td>West Jakarta (Jakarta Barat)</td>\n",
       "      <td>day</td>\n",
       "      <td>Tuesday</td>\n",
       "      <td>NaN</td>\n",
       "      <td>7</td>\n",
       "      <td>0</td>\n",
       "      <td>medium</td>\n",
       "      <td>high</td>\n",
       "      <td>rain</td>\n",
       "      <td>2</td>\n",
       "      <td>0.966819</td>\n",
       "      <td>20.603115</td>\n",
       "    </tr>\n",
       "  </tbody>\n",
       "</table>\n",
       "</div>"
      ],
      "text/plain": [
       "                       start_point                        end_point  \\\n",
       "0     West Jakarta (Jakarta Barat)  South Jakarta (Jakarta Selatan)   \n",
       "1     West Jakarta (Jakarta Barat)  South Jakarta (Jakarta Selatan)   \n",
       "2  Central Jakarta (Jakarta Pusat)     East Jakarta (Jakarta Timur)   \n",
       "3     West Jakarta (Jakarta Barat)  South Jakarta (Jakarta Selatan)   \n",
       "4  Central Jakarta (Jakarta Pusat)     West Jakarta (Jakarta Barat)   \n",
       "\n",
       "  time_of_day day_of_week  traffic_condition  event_count  is_holiday  \\\n",
       "0         day      Sunday                NaN            9           1   \n",
       "1     morning    Thursday                NaN            7           1   \n",
       "2     morning    Thursday                NaN            7           0   \n",
       "3     morning      Friday               10.0            9           0   \n",
       "4         day     Tuesday                NaN            7           0   \n",
       "\n",
       "  vehicle_density population_density weather  public_transport_availability  \\\n",
       "0             NaN               high     NaN                              1   \n",
       "1          medium               high     NaN                              1   \n",
       "2          medium                low     NaN                              2   \n",
       "3          medium               high     fog                              1   \n",
       "4          medium               high    rain                              2   \n",
       "\n",
       "   historical_delay_factor  travel_time  \n",
       "0                 0.878909    26.907612  \n",
       "1                 1.081668    27.489129  \n",
       "2                 1.192379    27.228978  \n",
       "3                 0.833348    33.943970  \n",
       "4                 0.966819    20.603115  "
      ]
     },
     "execution_count": 3,
     "metadata": {},
     "output_type": "execute_result"
    }
   ],
   "source": [
    "train_sample = pd.read_csv('../data/train_sample.csv')\n",
    "train_sample.head()"
   ]
  },
  {
   "cell_type": "code",
   "execution_count": 3,
   "id": "62739a2f-3eee-4632-a281-42ee6606a3e0",
   "metadata": {},
   "outputs": [
    {
     "data": {
      "text/plain": [
       "day_of_week\n",
       "Monday       5781\n",
       "Wednesday    5746\n",
       "Thursday     5744\n",
       "Friday       5711\n",
       "Tuesday      5707\n",
       "Saturday     5666\n",
       "Sunday       5645\n",
       "Name: count, dtype: int64"
      ]
     },
     "execution_count": 3,
     "metadata": {},
     "output_type": "execute_result"
    }
   ],
   "source": [
    "train_sample['day_of_week'].value_counts()"
   ]
  },
  {
   "cell_type": "code",
   "execution_count": 138,
   "id": "43df101b-44d6-444b-ac0f-fa04f866732d",
   "metadata": {},
   "outputs": [
    {
     "name": "stdout",
     "output_type": "stream",
     "text": [
      "<class 'pandas.core.frame.DataFrame'>\n",
      "RangeIndex: 40000 entries, 0 to 39999\n",
      "Data columns (total 13 columns):\n",
      " #   Column                         Non-Null Count  Dtype  \n",
      "---  ------                         --------------  -----  \n",
      " 0   start_point                    40000 non-null  object \n",
      " 1   end_point                      40000 non-null  object \n",
      " 2   time_of_day                    40000 non-null  object \n",
      " 3   day_of_week                    40000 non-null  object \n",
      " 4   traffic_condition              25599 non-null  float64\n",
      " 5   event_count                    40000 non-null  int64  \n",
      " 6   is_holiday                     40000 non-null  int64  \n",
      " 7   vehicle_density                25622 non-null  object \n",
      " 8   population_density             25552 non-null  object \n",
      " 9   weather                        25571 non-null  object \n",
      " 10  public_transport_availability  40000 non-null  int64  \n",
      " 11  historical_delay_factor        40000 non-null  float64\n",
      " 12  travel_time                    40000 non-null  float64\n",
      "dtypes: float64(3), int64(3), object(7)\n",
      "memory usage: 4.0+ MB\n"
     ]
    }
   ],
   "source": [
    "train_sample.info()"
   ]
  },
  {
   "cell_type": "markdown",
   "id": "54f89bee-a629-4cf3-866b-0d27baffb2e4",
   "metadata": {},
   "source": [
    "# Exploratory Data Analysis"
   ]
  },
  {
   "cell_type": "markdown",
   "id": "126193d1-4426-4880-a253-df2f0c823595",
   "metadata": {},
   "source": [
    "## Feature Engineering"
   ]
  },
  {
   "cell_type": "code",
   "execution_count": 38,
   "id": "5f7b4271-3fee-4417-9de1-f2fe7b28210b",
   "metadata": {},
   "outputs": [
    {
     "name": "stdout",
     "output_type": "stream",
     "text": [
      "travel_time                      1.000000\n",
      "public_transport_availability    0.246958\n",
      "historical_delay_factor          0.052816\n",
      "is_holiday                      -0.000366\n",
      "traffic_condition               -0.001405\n",
      "event_count                     -0.009502\n",
      "Name: travel_time, dtype: float64\n"
     ]
    }
   ],
   "source": [
    "corr = train_sample.select_dtypes(include=('int', 'float')).corr()\n",
    "high_corr = corr['travel_time'].sort_values(ascending=False)\n",
    "print(high_corr)"
   ]
  },
  {
   "cell_type": "code",
   "execution_count": 4,
   "id": "e11ca79f-05bd-487d-b91f-9c83edb2b24e",
   "metadata": {},
   "outputs": [],
   "source": [
    "train_sample['start_point'] = train_sample['start_point'].str.split(' (', regex=False).str[0]\n",
    "train_sample['end_point'] = train_sample['end_point'].str.split(' (', regex=False).str[0]"
   ]
  },
  {
   "cell_type": "code",
   "execution_count": 5,
   "id": "9fbb402c-f067-463e-a15d-e658c5325320",
   "metadata": {},
   "outputs": [],
   "source": [
    "train_sample['route'] = train_sample['start_point'] + ' to ' + train_sample['end_point']\n",
    "\n",
    "train_sample = train_sample.drop(['start_point', 'end_point'], axis=1)"
   ]
  },
  {
   "cell_type": "code",
   "execution_count": 41,
   "id": "8e2d0d48-4311-44eb-b5df-3445ecaed097",
   "metadata": {},
   "outputs": [],
   "source": [
    "# Traffic severity categories\n",
    "traffic_bins = [2, 4, 7, 10]\n",
    "traffic_labels = ['light', 'moderate', 'heavy']\n",
    "train_sample['traffic_severity'] = pd.cut(train_sample['traffic_condition'], bins=traffic_bins, labels=traffic_labels)\n",
    "\n",
    "# High traffic indicator (>= 8)\n",
    "#train_sample['high_traffic'] = (train_sample['traffic_condition'] >= 8.0).astype(int)\n",
    "\n",
    "# Extreme traffic indicator (>= 9)\n",
    "#train_sample['extreme_traffic'] = (train_sample['traffic_condition'] >= 9.0).astype(int)\n",
    "train_sample = train_sample.drop(['traffic_condition'], axis=1)"
   ]
  },
  {
   "cell_type": "code",
   "execution_count": 6,
   "id": "681c2dd0-03a3-450f-9c2c-dd8276ad05bb",
   "metadata": {},
   "outputs": [],
   "source": [
    "train_sample['day_of_week'] = train_sample['day_of_week'].str.lower()\n",
    "\n",
    "# Buat fitur is_weekend (1 untuk Sabtu/Minggu, 0 untuk hari lain)\n",
    "train_sample['is_weekend'] = train_sample['day_of_week'].apply(\n",
    "    lambda x: 1 if x in ['saturday', 'sunday'] else 0\n",
    ")"
   ]
  },
  {
   "cell_type": "code",
   "execution_count": 7,
   "id": "1c12c412-bb2a-4451-81ab-229f03e00ce2",
   "metadata": {},
   "outputs": [],
   "source": [
    "# 2. Gabungkan route dengan day_of_week\n",
    "train_sample['route_day'] = train_sample['route'] + '_' + train_sample['day_of_week']\n",
    "\n",
    "# 3. Gabungkan route dengan time_of_day (opsional)\n",
    "train_sample['route_time'] = train_sample['route'] + '_' + train_sample['time_of_day']\n",
    "\n",
    "# 4. Gabungkan route, hari, dan waktu sekaligus (opsional)\n",
    "train_sample['route_day_time'] = train_sample['route'] + '_' + train_sample['day_of_week'] + '_' + train_sample['time_of_day']"
   ]
  },
  {
   "cell_type": "code",
   "execution_count": 120,
   "id": "6b081e60-eac6-44cc-b147-2703a4087393",
   "metadata": {},
   "outputs": [
    {
     "data": {
      "text/plain": [
       "route_day_time\n",
       "Central Jakarta to West Jakarta_monday_night       171\n",
       "Central Jakarta to South Jakarta_thursday_day      168\n",
       "Central Jakarta to East Jakarta_thursday_night     167\n",
       "Central Jakarta to South Jakarta_saturday_night    166\n",
       "North Jakarta to South Jakarta_thursday_evening    166\n",
       "                                                  ... \n",
       "North Jakarta to East Jakarta_friday_morning       117\n",
       "North Jakarta to South Jakarta_sunday_day          116\n",
       "West Jakarta to East Jakarta_thursday_morning      115\n",
       "South Jakarta to East Jakarta_thursday_night       107\n",
       "West Jakarta to South Jakarta_friday_night         106\n",
       "Name: count, Length: 280, dtype: int64"
      ]
     },
     "execution_count": 120,
     "metadata": {},
     "output_type": "execute_result"
    }
   ],
   "source": [
    "train_sample['route_day_time'].value_counts()"
   ]
  },
  {
   "cell_type": "code",
   "execution_count": 7,
   "id": "7b12bede-81e4-4969-8c6e-aa320884d928",
   "metadata": {},
   "outputs": [
    {
     "data": {
      "image/png": "[encoded data removed]",
      "text/plain": [
       "<Figure size 1200x800 with 2 Axes>"
      ]
     },
     "metadata": {},
     "output_type": "display_data"
    }
   ],
   "source": [
    "# Hitung matriks korelasi\n",
    "corr_matrix = train_sample.select_dtypes(include=['float64', 'int64']).corr()\n",
    "\n",
    "# Tampilkan heatmap\n",
    "plt.figure(figsize=(12, 8))\n",
    "sns.heatmap(corr_matrix, annot=True, cmap='coolwarm', vmin=-1, vmax=1)\n",
    "plt.title(\"Korelasi Antar Fitur Numerik\")\n",
    "plt.show()"
   ]
  },
  {
   "cell_type": "code",
   "execution_count": 8,
   "id": "6b36b2b6-30e5-4e59-af24-f632cebb7e96",
   "metadata": {},
   "outputs": [
    {
     "name": "stdout",
     "output_type": "stream",
     "text": [
      "Pasangan Fitur Berkorelasi Tinggi:\n",
      "Empty DataFrame\n",
      "Columns: [level_0, level_1, 0]\n",
      "Index: []\n"
     ]
    }
   ],
   "source": [
    "high_corr_pairs = corr_matrix.abs().stack().reset_index()\n",
    "high_corr_pairs = high_corr_pairs[\n",
    "    (high_corr_pairs[0] > 0.8) &  # Threshold korelasi\n",
    "    (high_corr_pairs['level_0'] != high_corr_pairs['level_1'])  # Hindari diagonal\n",
    "]\n",
    "print(\"Pasangan Fitur Berkorelasi Tinggi:\")\n",
    "print(high_corr_pairs.sort_values(0, ascending=False))"
   ]
  },
  {
   "cell_type": "markdown",
   "id": "a377e35a-2e29-41f6-9075-eb1da66afe29",
   "metadata": {},
   "source": [
    "## Checking Null for Imputation"
   ]
  },
  {
   "cell_type": "code",
   "execution_count": 123,
   "id": "19b39298-a138-4843-9aea-76c169bac0c5",
   "metadata": {},
   "outputs": [
    {
     "name": "stdout",
     "output_type": "stream",
     "text": [
      "'traffic_condition' -->  36.00% data missing\n",
      "'vehicle_density' -->  35.95% data missing\n",
      "'population_density' -->  36.12% data missing\n",
      "'weather' -->  36.07% data missing\n"
     ]
    }
   ],
   "source": [
    "for col in train_sample.columns:\n",
    "    \n",
    "    total_value = train_sample[col].value_counts().sum()\n",
    "    total_value_pct = (total_value/len(train_sample))*100\n",
    "    if total_value_pct < 100.0:\n",
    "        print(f\"'{col}' -->  {100 - total_value_pct:.2f}% data missing\")\n",
    "    else:\n",
    "        continue"
   ]
  },
  {
   "cell_type": "markdown",
   "id": "91f179d3-7533-4fe7-96e4-96871c708053",
   "metadata": {},
   "source": [
    "### Imput NaN Object Value with Missing or Unknown"
   ]
  },
  {
   "cell_type": "code",
   "execution_count": 8,
   "id": "c440b452-9225-40c7-9121-c5d0d73cde40",
   "metadata": {},
   "outputs": [],
   "source": [
    "obj_nan = ['vehicle_density', 'population_density', 'weather']\n",
    "for col in obj_nan:\n",
    "    train_sample[col] = train_sample[col].str.lower()\n",
    "    train_sample[col] = train_sample[col].replace('nan',np.nan)\n",
    "    train_sample[col] = train_sample[col].fillna('missing')"
   ]
  },
  {
   "cell_type": "code",
   "execution_count": 10,
   "id": "c30839d6-5a3d-42bd-8d20-462df3541719",
   "metadata": {},
   "outputs": [
    {
     "name": "stdout",
     "output_type": "stream",
     "text": [
      "'traffic_condition' -->  36.00% data missing\n"
     ]
    }
   ],
   "source": [
    "for col in train_sample.columns:\n",
    "    \n",
    "    total_value = train_sample[col].value_counts().sum()\n",
    "    total_value_pct = (total_value/len(train_sample))*100\n",
    "    if total_value_pct < 100.0:\n",
    "        print(f\"'{col}' -->  {100 - total_value_pct:.2f}% data missing\")\n",
    "    else:\n",
    "        continue"
   ]
  },
  {
   "cell_type": "markdown",
   "id": "452b61ba-87a3-459c-9309-5d5564f3428d",
   "metadata": {},
   "source": [
    "### Add feature is_missing for traffic_condition"
   ]
  },
  {
   "cell_type": "code",
   "execution_count": 22,
   "id": "b767a44b-d08d-49b1-9f7c-f4cdecb3d04d",
   "metadata": {},
   "outputs": [
    {
     "data": {
      "image/png": "[encoded data removed]",
      "text/plain": [
       "<Figure size 640x480 with 1 Axes>"
      ]
     },
     "metadata": {},
     "output_type": "display_data"
    }
   ],
   "source": [
    "sns.histplot(train_sample['traffic_condition'], kde=True)\n",
    "plt.title(\"Traffic Condition Distribution\")\n",
    "plt.show()"
   ]
  },
  {
   "cell_type": "code",
   "execution_count": 9,
   "id": "1730d8cd-e749-4f8c-804a-2f60f9710c3a",
   "metadata": {},
   "outputs": [],
   "source": [
    "train_sample['traffic_condition_missing'] = train_sample['traffic_condition'].isna().astype(int)\n",
    "#train_sample['traffic_severity_missing'] = train_sample['traffic_severity'].isna().astype(int)"
   ]
  },
  {
   "cell_type": "code",
   "execution_count": 10,
   "id": "cff36549-4d5e-4830-826c-ddd049bf21a9",
   "metadata": {},
   "outputs": [],
   "source": [
    "train_sample['traffic_condition'] = train_sample['traffic_condition'].fillna(train_sample['traffic_condition'].mode()[0])\n",
    "#train_sample['traffic_severity'] = train_sample['traffic_severity'].fillna(train_sample['traffic_severity'].mode()[0])"
   ]
  },
  {
   "cell_type": "code",
   "execution_count": 79,
   "id": "c0402ea3-d292-4c56-bbc4-8747f690fa37",
   "metadata": {},
   "outputs": [],
   "source": [
    "for col in train_sample.columns:\n",
    "    \n",
    "    total_value = train_sample[col].value_counts().sum()\n",
    "    total_value_pct = (total_value/len(train_sample))*100\n",
    "    if total_value_pct < 100.0:\n",
    "        print(f\"'{col}' -->  {100 - total_value_pct:.2f}% data missing\")\n",
    "    else:\n",
    "        continue"
   ]
  },
  {
   "cell_type": "code",
   "execution_count": 80,
   "id": "59cbcda7-71eb-46cd-b849-cc499a1fd27f",
   "metadata": {},
   "outputs": [
    {
     "name": "stdout",
     "output_type": "stream",
     "text": [
      "<class 'pandas.core.frame.DataFrame'>\n",
      "RangeIndex: 40000 entries, 0 to 39999\n",
      "Data columns (total 17 columns):\n",
      " #   Column                         Non-Null Count  Dtype  \n",
      "---  ------                         --------------  -----  \n",
      " 0   time_of_day                    40000 non-null  object \n",
      " 1   day_of_week                    40000 non-null  object \n",
      " 2   traffic_condition              40000 non-null  float64\n",
      " 3   event_count                    40000 non-null  int64  \n",
      " 4   is_holiday                     40000 non-null  int64  \n",
      " 5   vehicle_density                40000 non-null  object \n",
      " 6   population_density             40000 non-null  object \n",
      " 7   weather                        40000 non-null  object \n",
      " 8   public_transport_availability  40000 non-null  int64  \n",
      " 9   historical_delay_factor        40000 non-null  float64\n",
      " 10  travel_time                    40000 non-null  float64\n",
      " 11  route                          40000 non-null  object \n",
      " 12  is_weekend                     40000 non-null  int64  \n",
      " 13  route_day                      40000 non-null  object \n",
      " 14  route_time                     40000 non-null  object \n",
      " 15  route_day_time                 40000 non-null  object \n",
      " 16  traffic_condition_missing      40000 non-null  int64  \n",
      "dtypes: float64(3), int64(5), object(9)\n",
      "memory usage: 5.2+ MB\n"
     ]
    }
   ],
   "source": [
    "train_sample.info()"
   ]
  },
  {
   "cell_type": "code",
   "execution_count": 17,
   "id": "a346a381-02b2-4534-a8f4-e4f32945d128",
   "metadata": {},
   "outputs": [
    {
     "name": "stdout",
     "output_type": "stream",
     "text": [
      "                         feature       VIF\n",
      "3        historical_delay_factor  9.997921\n",
      "2  public_transport_availability  5.936711\n",
      "4                    travel_time  5.299159\n",
      "0                    event_count  3.411519\n",
      "1                     is_holiday  1.962466\n",
      "6       traffic_severity_missing  1.544742\n",
      "5                     is_weekend  1.394653\n"
     ]
    }
   ],
   "source": [
    "from statsmodels.stats.outliers_influence import variance_inflation_factor\n",
    "\n",
    "# Hitung VIF untuk setiap fitur numerik\n",
    "vif_data = pd.DataFrame()\n",
    "vif_data[\"feature\"] = train_sample.select_dtypes(include=['float64', 'int64']).columns\n",
    "vif_data[\"VIF\"] = [variance_inflation_factor(\n",
    "    train_sample.select_dtypes(include=['float64', 'int64']).values, i) \n",
    "    for i in range(len(vif_data[\"feature\"]))\n",
    "]\n",
    "\n",
    "print(vif_data.sort_values(\"VIF\", ascending=False))"
   ]
  },
  {
   "cell_type": "markdown",
   "id": "c23a4afd-ace6-463b-b31c-305071b5c9d4",
   "metadata": {},
   "source": [
    "## Detect and Handle Outliers"
   ]
  },
  {
   "cell_type": "code",
   "execution_count": 58,
   "id": "a1cb9945-76ec-4bd6-97fc-641661656a40",
   "metadata": {},
   "outputs": [
    {
     "name": "stdout",
     "output_type": "stream",
     "text": [
      "Checking for outliers\n",
      "traffic_condition : 13209 Outlier(33.02%)\n",
      "event_count : 706 Outlier(1.76%)\n",
      "is_holiday : 0 Outlier(0.00%)\n",
      "public_transport_availability : 0 Outlier(0.00%)\n",
      "historical_delay_factor : 383 Outlier(0.96%)\n",
      "travel_time : 465 Outlier(1.16%)\n",
      "is_weekend : 0 Outlier(0.00%)\n",
      "traffic_condition_missing : 0 Outlier(0.00%)\n",
      "traffic_severity_missing : 0 Outlier(0.00%)\n"
     ]
    }
   ],
   "source": [
    "outlier_list = []\n",
    "list_int = []\n",
    "list_int = train_sample.select_dtypes(include=('int', 'float')).columns.to_list()\n",
    "print('Checking for outliers')\n",
    "\n",
    "for col in list_int:\n",
    "    Q1 = train_sample[col].quantile(.25)\n",
    "    Q3 = train_sample[col].quantile(.75)\n",
    "    IQR = Q3 - Q1\n",
    "    lower_bound = Q1 - IQR*1.5\n",
    "    upper_bound = Q3 + IQR*1.5\n",
    "\n",
    "    outlier_count = train_sample[(train_sample[col]<lower_bound) | (train_sample[col]>upper_bound)].shape[0]\n",
    "    outlier_pct = outlier_count/len(train_sample)*100\n",
    "\n",
    "    print(f\"{col} : {outlier_count} Outlier({outlier_pct:.2f}%)\")\n",
    "    if outlier_count != 0:\n",
    "        outlier_list.append(col)\n",
    "    else:\n",
    "        continue"
   ]
  },
  {
   "cell_type": "code",
   "execution_count": 28,
   "id": "691ec59e-c380-4830-9ef1-f4f81e806d2b",
   "metadata": {},
   "outputs": [
    {
     "data": {
      "image/png": "[encoded data removed]",
      "text/plain": [
       "<Figure size 1500x1200 with 4 Axes>"
      ]
     },
     "metadata": {},
     "output_type": "display_data"
    }
   ],
   "source": [
    "# Kolom-kolom yang ingin dilihat outliernya\n",
    "columns_to_check = ['traffic_condition', 'event_count', 'historical_delay_factor', 'travel_time']\n",
    "\n",
    "# Tentukan ukuran plot\n",
    "plt.figure(figsize=(15, 12))\n",
    "\n",
    "# Loop untuk membuat subplot boxplot setiap kolom\n",
    "for i, col in enumerate(columns_to_check, 1):\n",
    "    plt.subplot(3, 3, i)\n",
    "    sns.boxplot(y=train_sample[col], color='skyblue')\n",
    "    plt.title(f'Boxplot of {col}')\n",
    "    plt.tight_layout()\n",
    "\n",
    "plt.show()"
   ]
  },
  {
   "cell_type": "code",
   "execution_count": 29,
   "id": "79dd745c-672f-40ef-9c6f-71d9b0bc99d8",
   "metadata": {},
   "outputs": [
    {
     "data": {
      "image/png": "[encoded data removed]",
      "text/plain": [
       "<Figure size 1500x1200 with 4 Axes>"
      ]
     },
     "metadata": {},
     "output_type": "display_data"
    }
   ],
   "source": [
    "# Kolom-kolom yang ingin dilihat outliernya\n",
    "columns_to_check_dist = ['traffic_condition', 'event_count', 'historical_delay_factor', 'travel_time']\n",
    "\n",
    "# Tentukan ukuran plot\n",
    "plt.figure(figsize=(15, 12))\n",
    "\n",
    "# Loop untuk membuat subplot boxplot setiap kolom\n",
    "for i, col in enumerate(columns_to_check, 1):\n",
    "    plt.subplot(3, 3, i)\n",
    "    sns.histplot(train_sample[col], kde=True)\n",
    "    plt.title(f'{col} Distribution')\n",
    "    plt.tight_layout()\n",
    "\n",
    "plt.show()\n"
   ]
  },
  {
   "cell_type": "markdown",
   "id": "97c50bbd-3dea-431d-9fc7-f14425b1574c",
   "metadata": {},
   "source": [
    "### Handle Event Count with Log Transform"
   ]
  },
  {
   "cell_type": "code",
   "execution_count": 30,
   "id": "d09af493-d80e-43e2-8621-d18496c7eb3e",
   "metadata": {},
   "outputs": [
    {
     "data": {
      "image/png": "[encoded data removed]",
      "text/plain": [
       "<Figure size 640x480 with 1 Axes>"
      ]
     },
     "metadata": {},
     "output_type": "display_data"
    }
   ],
   "source": [
    "sns.histplot((train_sample['event_count']), kde=True)\n",
    "plt.title(\"Traffic Condition Distribution\")\n",
    "plt.show()"
   ]
  },
  {
   "cell_type": "code",
   "execution_count": 11,
   "id": "31424c9d-6669-4c2a-8593-e245186d973d",
   "metadata": {},
   "outputs": [],
   "source": [
    "# Log transform\n",
    "train_sample['event_count'] = np.log1p(train_sample['event_count'])"
   ]
  },
  {
   "cell_type": "code",
   "execution_count": 129,
   "id": "276b85e3-ff56-48a8-a716-30d54f432d09",
   "metadata": {},
   "outputs": [
    {
     "data": {
      "image/png": "[encoded data removed]",
      "text/plain": [
       "<Figure size 640x480 with 1 Axes>"
      ]
     },
     "metadata": {},
     "output_type": "display_data"
    }
   ],
   "source": [
    "sns.histplot(train_sample['event_count'], kde=True)\n",
    "plt.title(\"Event Count Distribution\")\n",
    "plt.show()"
   ]
  },
  {
   "cell_type": "markdown",
   "id": "8e0a4c57-1abf-4e11-a916-2e2bf6f16813",
   "metadata": {},
   "source": [
    "# Data Pre-Proccessing"
   ]
  },
  {
   "cell_type": "code",
   "execution_count": 12,
   "id": "71308b67-2150-4123-93cd-9daa1583b3b0",
   "metadata": {},
   "outputs": [],
   "source": [
    "y = train_sample['travel_time']\n",
    "X = train_sample.drop(['travel_time'], axis=1)\n",
    "\n",
    "X_train, X_test, y_train, y_test = train_test_split(X, y, test_size=0.2, random_state=23)"
   ]
  },
  {
   "cell_type": "code",
   "execution_count": 13,
   "id": "31080ef4-fd24-4bbb-9473-5ba9b8ed8d56",
   "metadata": {},
   "outputs": [
    {
     "name": "stdout",
     "output_type": "stream",
     "text": [
      "<class 'pandas.core.frame.DataFrame'>\n",
      "RangeIndex: 40000 entries, 0 to 39999\n",
      "Data columns (total 16 columns):\n",
      " #   Column                         Non-Null Count  Dtype  \n",
      "---  ------                         --------------  -----  \n",
      " 0   time_of_day                    40000 non-null  object \n",
      " 1   day_of_week                    40000 non-null  object \n",
      " 2   traffic_condition              40000 non-null  float64\n",
      " 3   event_count                    40000 non-null  float64\n",
      " 4   is_holiday                     40000 non-null  int64  \n",
      " 5   vehicle_density                40000 non-null  object \n",
      " 6   population_density             40000 non-null  object \n",
      " 7   weather                        40000 non-null  object \n",
      " 8   public_transport_availability  40000 non-null  int64  \n",
      " 9   historical_delay_factor        40000 non-null  float64\n",
      " 10  route                          40000 non-null  object \n",
      " 11  is_weekend                     40000 non-null  int64  \n",
      " 12  route_day                      40000 non-null  object \n",
      " 13  route_time                     40000 non-null  object \n",
      " 14  route_day_time                 40000 non-null  object \n",
      " 15  traffic_condition_missing      40000 non-null  int64  \n",
      "dtypes: float64(3), int64(4), object(9)\n",
      "memory usage: 4.9+ MB\n"
     ]
    }
   ],
   "source": [
    "X.info()"
   ]
  },
  {
   "cell_type": "code",
   "execution_count": 24,
   "id": "4a5c1bf8-56fe-4b78-b432-6677a26844f4",
   "metadata": {},
   "outputs": [
    {
     "data": {
      "text/plain": [
       "np.float64(2.701010448794384)"
      ]
     },
     "execution_count": 24,
     "metadata": {},
     "output_type": "execute_result"
    }
   ],
   "source": [
    "X['historical_delay_factor'].max()"
   ]
  },
  {
   "cell_type": "markdown",
   "id": "2efed5f5-1532-40b4-ae7c-afbdac7a546c",
   "metadata": {},
   "source": [
    "## Encoding"
   ]
  },
  {
   "cell_type": "code",
   "execution_count": 35,
   "id": "d1e996fc-6c17-473a-b12d-c5e2931b113e",
   "metadata": {},
   "outputs": [
    {
     "data": {
      "text/html": [
       "<div>\n",
       "<style scoped>\n",
       "    .dataframe tbody tr th:only-of-type {\n",
       "        vertical-align: middle;\n",
       "    }\n",
       "\n",
       "    .dataframe tbody tr th {\n",
       "        vertical-align: top;\n",
       "    }\n",
       "\n",
       "    .dataframe thead th {\n",
       "        text-align: right;\n",
       "    }\n",
       "</style>\n",
       "<table border=\"1\" class=\"dataframe\">\n",
       "  <thead>\n",
       "    <tr style=\"text-align: right;\">\n",
       "      <th></th>\n",
       "      <th>time_of_day</th>\n",
       "      <th>day_of_week</th>\n",
       "      <th>vehicle_density</th>\n",
       "      <th>population_density</th>\n",
       "      <th>weather</th>\n",
       "      <th>route</th>\n",
       "      <th>route_day</th>\n",
       "      <th>route_time</th>\n",
       "      <th>route_day_time</th>\n",
       "    </tr>\n",
       "  </thead>\n",
       "  <tbody>\n",
       "    <tr>\n",
       "      <th>25205</th>\n",
       "      <td>night</td>\n",
       "      <td>thursday</td>\n",
       "      <td>missing</td>\n",
       "      <td>high</td>\n",
       "      <td>missing</td>\n",
       "      <td>Central Jakarta to North Jakarta</td>\n",
       "      <td>Central Jakarta to North Jakarta_thursday</td>\n",
       "      <td>Central Jakarta to North Jakarta_night</td>\n",
       "      <td>Central Jakarta to North Jakarta_thursday_night</td>\n",
       "    </tr>\n",
       "    <tr>\n",
       "      <th>5266</th>\n",
       "      <td>night</td>\n",
       "      <td>wednesday</td>\n",
       "      <td>low</td>\n",
       "      <td>missing</td>\n",
       "      <td>storm</td>\n",
       "      <td>North Jakarta to South Jakarta</td>\n",
       "      <td>North Jakarta to South Jakarta_wednesday</td>\n",
       "      <td>North Jakarta to South Jakarta_night</td>\n",
       "      <td>North Jakarta to South Jakarta_wednesday_night</td>\n",
       "    </tr>\n",
       "    <tr>\n",
       "      <th>6876</th>\n",
       "      <td>night</td>\n",
       "      <td>wednesday</td>\n",
       "      <td>medium</td>\n",
       "      <td>medium</td>\n",
       "      <td>fog</td>\n",
       "      <td>Central Jakarta to North Jakarta</td>\n",
       "      <td>Central Jakarta to North Jakarta_wednesday</td>\n",
       "      <td>Central Jakarta to North Jakarta_night</td>\n",
       "      <td>Central Jakarta to North Jakarta_wednesday_night</td>\n",
       "    </tr>\n",
       "    <tr>\n",
       "      <th>18031</th>\n",
       "      <td>night</td>\n",
       "      <td>wednesday</td>\n",
       "      <td>missing</td>\n",
       "      <td>missing</td>\n",
       "      <td>rain</td>\n",
       "      <td>West Jakarta to South Jakarta</td>\n",
       "      <td>West Jakarta to South Jakarta_wednesday</td>\n",
       "      <td>West Jakarta to South Jakarta_night</td>\n",
       "      <td>West Jakarta to South Jakarta_wednesday_night</td>\n",
       "    </tr>\n",
       "    <tr>\n",
       "      <th>21984</th>\n",
       "      <td>day</td>\n",
       "      <td>friday</td>\n",
       "      <td>missing</td>\n",
       "      <td>missing</td>\n",
       "      <td>fog</td>\n",
       "      <td>West Jakarta to East Jakarta</td>\n",
       "      <td>West Jakarta to East Jakarta_friday</td>\n",
       "      <td>West Jakarta to East Jakarta_day</td>\n",
       "      <td>West Jakarta to East Jakarta_friday_day</td>\n",
       "    </tr>\n",
       "  </tbody>\n",
       "</table>\n",
       "</div>"
      ],
      "text/plain": [
       "      time_of_day day_of_week vehicle_density population_density  weather  \\\n",
       "25205       night    thursday         missing               high  missing   \n",
       "5266        night   wednesday             low            missing    storm   \n",
       "6876        night   wednesday          medium             medium      fog   \n",
       "18031       night   wednesday         missing            missing     rain   \n",
       "21984         day      friday         missing            missing      fog   \n",
       "\n",
       "                                  route  \\\n",
       "25205  Central Jakarta to North Jakarta   \n",
       "5266     North Jakarta to South Jakarta   \n",
       "6876   Central Jakarta to North Jakarta   \n",
       "18031     West Jakarta to South Jakarta   \n",
       "21984      West Jakarta to East Jakarta   \n",
       "\n",
       "                                        route_day  \\\n",
       "25205   Central Jakarta to North Jakarta_thursday   \n",
       "5266     North Jakarta to South Jakarta_wednesday   \n",
       "6876   Central Jakarta to North Jakarta_wednesday   \n",
       "18031     West Jakarta to South Jakarta_wednesday   \n",
       "21984         West Jakarta to East Jakarta_friday   \n",
       "\n",
       "                                   route_time  \\\n",
       "25205  Central Jakarta to North Jakarta_night   \n",
       "5266     North Jakarta to South Jakarta_night   \n",
       "6876   Central Jakarta to North Jakarta_night   \n",
       "18031     West Jakarta to South Jakarta_night   \n",
       "21984        West Jakarta to East Jakarta_day   \n",
       "\n",
       "                                         route_day_time  \n",
       "25205   Central Jakarta to North Jakarta_thursday_night  \n",
       "5266     North Jakarta to South Jakarta_wednesday_night  \n",
       "6876   Central Jakarta to North Jakarta_wednesday_night  \n",
       "18031     West Jakarta to South Jakarta_wednesday_night  \n",
       "21984           West Jakarta to East Jakarta_friday_day  "
      ]
     },
     "execution_count": 35,
     "metadata": {},
     "output_type": "execute_result"
    }
   ],
   "source": [
    "X_train_num = X_train._get_numeric_data()\n",
    "X_test_num = X_test._get_numeric_data()\n",
    "\n",
    "X_train_cat = X_train.drop(list(X_train_num.columns.values), axis=1)\n",
    "X_test_cat = X_test.drop(list(X_test_num.columns.values), axis=1)\n",
    "\n",
    "X_train_cat.head()"
   ]
  },
  {
   "cell_type": "markdown",
   "id": "f2fd3f75-395c-4e8b-a5ad-1bdaf5443291",
   "metadata": {},
   "source": [
    "### OneHot Encoding"
   ]
  },
  {
   "cell_type": "code",
   "execution_count": 36,
   "id": "f246c90f-6e09-4d6e-9a34-a9dce9e5884a",
   "metadata": {},
   "outputs": [],
   "source": [
    "ohe = OneHotEncoder(sparse_output=False, handle_unknown='ignore')\n",
    "\n",
    "#cat_feature = X_train_cat[['start_point','end_point', 'time_of_day', 'day_of_week', 'vehicle_density', 'population_density', 'weather']]\n",
    "#cat_feature_test = X_test_cat[['start_point','end_point', 'time_of_day', 'day_of_week', 'vehicle_density', 'population_density', 'weather']]\n",
    "cat_feature = X_train_cat[['time_of_day', 'day_of_week', 'vehicle_density', 'population_density', 'weather', 'route']]\n",
    "cat_feature_test = X_test_cat[['time_of_day', 'day_of_week', 'vehicle_density', 'population_density', 'weather', 'route']]\n",
    "\n",
    "cat_encoded = ohe.fit_transform(cat_feature)\n",
    "cat_encoded_test = ohe.transform(cat_feature_test)\n",
    "\n",
    "cat_encoded_df = pd.DataFrame(cat_encoded, columns=ohe.get_feature_names_out(cat_feature.columns), index=X_train_cat.index)\n",
    "cat_encoded_df_test = pd.DataFrame(cat_encoded_test, columns=ohe.get_feature_names_out(cat_feature_test.columns), index=X_test_cat.index)\n",
    "\n",
    "#X_train_cat = X_train_cat.drop(['start_point','end_point', 'time_of_day', 'day_of_week', 'vehicle_density', 'population_density', 'weather'], axis=1)\n",
    "#X_train_cat = pd.concat([X_train_cat, cat_encoded_df], axis=1)\n",
    "X_train_cat = X_train_cat.drop(['time_of_day', 'day_of_week', 'vehicle_density', 'population_density', 'weather', 'route'], axis=1)\n",
    "X_train_cat = pd.concat([X_train_cat, cat_encoded_df], axis=1)\n",
    "\n",
    "#X_test_cat = X_test_cat.drop(['start_point','end_point', 'time_of_day', 'day_of_week', 'vehicle_density', 'population_density', 'weather'], axis=1)\n",
    "X_test_cat = X_test_cat.drop(['time_of_day', 'day_of_week', 'vehicle_density', 'population_density', 'weather', 'route'], axis=1)\n",
    "X_test_cat = pd.concat([X_test_cat, cat_encoded_df_test], axis=1)"
   ]
  },
  {
   "cell_type": "markdown",
   "id": "29e8fa0d-6c99-45ce-99c8-0207207663eb",
   "metadata": {},
   "source": [
    "## Target Encoding"
   ]
  },
  {
   "cell_type": "code",
   "execution_count": 37,
   "id": "ea0b0a9a-0c36-458b-ba73-c464a994d047",
   "metadata": {},
   "outputs": [],
   "source": [
    "X_train_encoded = X_train_cat.copy()\n",
    "X_test_encoded = X_test_cat.copy()\n",
    "\n",
    "target_encode_cols = ['route_day', 'route_time', 'route_day_time']\n",
    "\n",
    "for col in target_encode_cols:\n",
    "    # Menggabungkan X dan y agar bisa groupby dengan y_train\n",
    "    temp_df = X_train_cat.copy()\n",
    "    temp_df['target'] = y_train.values\n",
    "\n",
    "    # Hitung rata-rata target untuk setiap kategori\n",
    "    mean_encoded = temp_df.groupby(col)['target'].mean()\n",
    "\n",
    "    # Mapping ke training dan test\n",
    "    X_train_encoded[col] = X_train_cat[col].map(mean_encoded)\n",
    "    global_mean = y_train.mean()\n",
    "    X_test_encoded[col] = X_test_cat[col].map(mean_encoded).fillna(global_mean)"
   ]
  },
  {
   "cell_type": "code",
   "execution_count": 38,
   "id": "4d3c4f6c-0002-4a7b-9141-5882eb6e6826",
   "metadata": {},
   "outputs": [],
   "source": [
    "# Gabungkan kembali\n",
    "X_train_concat = pd.concat([X_train_num, X_train_encoded], axis=1)\n",
    "X_test_concat = pd.concat([X_test_num, X_test_encoded], axis=1)"
   ]
  },
  {
   "cell_type": "code",
   "execution_count": 19,
   "id": "dd5ab0a3-e7fc-44e9-8974-4472babff882",
   "metadata": {},
   "outputs": [],
   "source": [
    "# Join Numerical dan Categorical Data\n",
    "X_train_concat = pd.concat([X_train_num,\n",
    "                            X_train_cat],\n",
    "                           axis = 1)\n",
    "\n",
    "X_test_concat = pd.concat([X_test_num,\n",
    "                          X_test_cat],\n",
    "                         axis=1)"
   ]
  },
  {
   "cell_type": "code",
   "execution_count": 39,
   "id": "fc0d508e-1afe-4c05-ab93-54c7850b0d36",
   "metadata": {},
   "outputs": [
    {
     "name": "stdout",
     "output_type": "stream",
     "text": [
      "<class 'pandas.core.frame.DataFrame'>\n",
      "Index: 32000 entries, 25205 to 9256\n",
      "Data columns (total 44 columns):\n",
      " #   Column                                  Non-Null Count  Dtype  \n",
      "---  ------                                  --------------  -----  \n",
      " 0   traffic_condition                       32000 non-null  float64\n",
      " 1   event_count                             32000 non-null  float64\n",
      " 2   is_holiday                              32000 non-null  int64  \n",
      " 3   public_transport_availability           32000 non-null  int64  \n",
      " 4   historical_delay_factor                 32000 non-null  float64\n",
      " 5   is_weekend                              32000 non-null  int64  \n",
      " 6   traffic_condition_missing               32000 non-null  int64  \n",
      " 7   route_day                               32000 non-null  float64\n",
      " 8   route_time                              32000 non-null  float64\n",
      " 9   route_day_time                          32000 non-null  float64\n",
      " 10  time_of_day_day                         32000 non-null  float64\n",
      " 11  time_of_day_evening                     32000 non-null  float64\n",
      " 12  time_of_day_morning                     32000 non-null  float64\n",
      " 13  time_of_day_night                       32000 non-null  float64\n",
      " 14  day_of_week_friday                      32000 non-null  float64\n",
      " 15  day_of_week_monday                      32000 non-null  float64\n",
      " 16  day_of_week_saturday                    32000 non-null  float64\n",
      " 17  day_of_week_sunday                      32000 non-null  float64\n",
      " 18  day_of_week_thursday                    32000 non-null  float64\n",
      " 19  day_of_week_tuesday                     32000 non-null  float64\n",
      " 20  day_of_week_wednesday                   32000 non-null  float64\n",
      " 21  vehicle_density_high                    32000 non-null  float64\n",
      " 22  vehicle_density_low                     32000 non-null  float64\n",
      " 23  vehicle_density_medium                  32000 non-null  float64\n",
      " 24  vehicle_density_missing                 32000 non-null  float64\n",
      " 25  population_density_high                 32000 non-null  float64\n",
      " 26  population_density_low                  32000 non-null  float64\n",
      " 27  population_density_medium               32000 non-null  float64\n",
      " 28  population_density_missing              32000 non-null  float64\n",
      " 29  weather_clear                           32000 non-null  float64\n",
      " 30  weather_fog                             32000 non-null  float64\n",
      " 31  weather_missing                         32000 non-null  float64\n",
      " 32  weather_rain                            32000 non-null  float64\n",
      " 33  weather_storm                           32000 non-null  float64\n",
      " 34  route_Central Jakarta to East Jakarta   32000 non-null  float64\n",
      " 35  route_Central Jakarta to North Jakarta  32000 non-null  float64\n",
      " 36  route_Central Jakarta to South Jakarta  32000 non-null  float64\n",
      " 37  route_Central Jakarta to West Jakarta   32000 non-null  float64\n",
      " 38  route_North Jakarta to East Jakarta     32000 non-null  float64\n",
      " 39  route_North Jakarta to South Jakarta    32000 non-null  float64\n",
      " 40  route_North Jakarta to West Jakarta     32000 non-null  float64\n",
      " 41  route_South Jakarta to East Jakarta     32000 non-null  float64\n",
      " 42  route_West Jakarta to East Jakarta      32000 non-null  float64\n",
      " 43  route_West Jakarta to South Jakarta     32000 non-null  float64\n",
      "dtypes: float64(40), int64(4)\n",
      "memory usage: 11.0 MB\n"
     ]
    }
   ],
   "source": [
    "X_train_concat.info()"
   ]
  },
  {
   "cell_type": "markdown",
   "id": "c3d8d76c-0156-4e59-97e7-26a9cde03d41",
   "metadata": {},
   "source": [
    "## Check Null and Handle It"
   ]
  },
  {
   "cell_type": "code",
   "execution_count": 138,
   "id": "615408c9-8415-45fe-897f-1c4b57bf5947",
   "metadata": {},
   "outputs": [],
   "source": [
    "for col in X_train_concat.columns:\n",
    "    \n",
    "    total_value = X_train_concat[col].value_counts().sum()\n",
    "    total_value_pct = (total_value/len(X_train_concat))*100\n",
    "    if total_value_pct < 100.0:\n",
    "        print(f\"'{col}' -->  {100 - total_value_pct:.2f}% data missing\")\n",
    "    else:\n",
    "        continue"
   ]
  },
  {
   "cell_type": "markdown",
   "id": "25cd86f2-6e5b-49c8-987c-a050d4bf62d0",
   "metadata": {},
   "source": [
    "## Standarization"
   ]
  },
  {
   "cell_type": "code",
   "execution_count": 40,
   "id": "c239e500-3d15-40f5-ac61-9027ff6e58c2",
   "metadata": {},
   "outputs": [
    {
     "data": {
      "text/html": [
       "<div>\n",
       "<style scoped>\n",
       "    .dataframe tbody tr th:only-of-type {\n",
       "        vertical-align: middle;\n",
       "    }\n",
       "\n",
       "    .dataframe tbody tr th {\n",
       "        vertical-align: top;\n",
       "    }\n",
       "\n",
       "    .dataframe thead th {\n",
       "        text-align: right;\n",
       "    }\n",
       "</style>\n",
       "<table border=\"1\" class=\"dataframe\">\n",
       "  <thead>\n",
       "    <tr style=\"text-align: right;\">\n",
       "      <th></th>\n",
       "      <th>traffic_condition</th>\n",
       "      <th>event_count</th>\n",
       "      <th>is_holiday</th>\n",
       "      <th>public_transport_availability</th>\n",
       "      <th>historical_delay_factor</th>\n",
       "      <th>is_weekend</th>\n",
       "      <th>traffic_condition_missing</th>\n",
       "      <th>route_day</th>\n",
       "      <th>route_time</th>\n",
       "      <th>route_day_time</th>\n",
       "      <th>...</th>\n",
       "      <th>route_Central Jakarta to East Jakarta</th>\n",
       "      <th>route_Central Jakarta to North Jakarta</th>\n",
       "      <th>route_Central Jakarta to South Jakarta</th>\n",
       "      <th>route_Central Jakarta to West Jakarta</th>\n",
       "      <th>route_North Jakarta to East Jakarta</th>\n",
       "      <th>route_North Jakarta to South Jakarta</th>\n",
       "      <th>route_North Jakarta to West Jakarta</th>\n",
       "      <th>route_South Jakarta to East Jakarta</th>\n",
       "      <th>route_West Jakarta to East Jakarta</th>\n",
       "      <th>route_West Jakarta to South Jakarta</th>\n",
       "    </tr>\n",
       "  </thead>\n",
       "  <tbody>\n",
       "    <tr>\n",
       "      <th>25205</th>\n",
       "      <td>0.906035</td>\n",
       "      <td>-0.589580</td>\n",
       "      <td>-0.998127</td>\n",
       "      <td>0.746513</td>\n",
       "      <td>0.287417</td>\n",
       "      <td>-0.625205</td>\n",
       "      <td>-0.748373</td>\n",
       "      <td>0.218324</td>\n",
       "      <td>-0.136682</td>\n",
       "      <td>-0.196991</td>\n",
       "      <td>...</td>\n",
       "      <td>-0.332928</td>\n",
       "      <td>3.006267</td>\n",
       "      <td>-0.33368</td>\n",
       "      <td>-0.338862</td>\n",
       "      <td>-0.331769</td>\n",
       "      <td>-0.330490</td>\n",
       "      <td>-0.335528</td>\n",
       "      <td>-0.332001</td>\n",
       "      <td>-0.330083</td>\n",
       "      <td>-0.335297</td>\n",
       "    </tr>\n",
       "    <tr>\n",
       "      <th>5266</th>\n",
       "      <td>0.234991</td>\n",
       "      <td>0.325363</td>\n",
       "      <td>1.001877</td>\n",
       "      <td>-0.740287</td>\n",
       "      <td>-0.962869</td>\n",
       "      <td>-0.625205</td>\n",
       "      <td>-0.748373</td>\n",
       "      <td>0.911608</td>\n",
       "      <td>0.406286</td>\n",
       "      <td>0.362229</td>\n",
       "      <td>...</td>\n",
       "      <td>-0.332928</td>\n",
       "      <td>-0.332638</td>\n",
       "      <td>-0.33368</td>\n",
       "      <td>-0.338862</td>\n",
       "      <td>-0.331769</td>\n",
       "      <td>3.025807</td>\n",
       "      <td>-0.335528</td>\n",
       "      <td>-0.332001</td>\n",
       "      <td>-0.330083</td>\n",
       "      <td>-0.335297</td>\n",
       "    </tr>\n",
       "    <tr>\n",
       "      <th>6876</th>\n",
       "      <td>0.234991</td>\n",
       "      <td>-0.589580</td>\n",
       "      <td>-0.998127</td>\n",
       "      <td>0.746513</td>\n",
       "      <td>0.467229</td>\n",
       "      <td>-0.625205</td>\n",
       "      <td>1.336232</td>\n",
       "      <td>0.221156</td>\n",
       "      <td>-0.136682</td>\n",
       "      <td>-0.156630</td>\n",
       "      <td>...</td>\n",
       "      <td>-0.332928</td>\n",
       "      <td>3.006267</td>\n",
       "      <td>-0.33368</td>\n",
       "      <td>-0.338862</td>\n",
       "      <td>-0.331769</td>\n",
       "      <td>-0.330490</td>\n",
       "      <td>-0.335528</td>\n",
       "      <td>-0.332001</td>\n",
       "      <td>-0.330083</td>\n",
       "      <td>-0.335297</td>\n",
       "    </tr>\n",
       "    <tr>\n",
       "      <th>18031</th>\n",
       "      <td>0.234991</td>\n",
       "      <td>-0.589580</td>\n",
       "      <td>1.001877</td>\n",
       "      <td>-0.740287</td>\n",
       "      <td>-0.765427</td>\n",
       "      <td>-0.625205</td>\n",
       "      <td>1.336232</td>\n",
       "      <td>-0.343516</td>\n",
       "      <td>-0.574894</td>\n",
       "      <td>-0.598176</td>\n",
       "      <td>...</td>\n",
       "      <td>-0.332928</td>\n",
       "      <td>-0.332638</td>\n",
       "      <td>-0.33368</td>\n",
       "      <td>-0.338862</td>\n",
       "      <td>-0.331769</td>\n",
       "      <td>-0.330490</td>\n",
       "      <td>-0.335528</td>\n",
       "      <td>-0.332001</td>\n",
       "      <td>-0.330083</td>\n",
       "      <td>2.982426</td>\n",
       "    </tr>\n",
       "    <tr>\n",
       "      <th>21984</th>\n",
       "      <td>0.234991</td>\n",
       "      <td>0.325363</td>\n",
       "      <td>-0.998127</td>\n",
       "      <td>0.746513</td>\n",
       "      <td>0.783462</td>\n",
       "      <td>-0.625205</td>\n",
       "      <td>-0.748373</td>\n",
       "      <td>1.241367</td>\n",
       "      <td>0.634791</td>\n",
       "      <td>0.962900</td>\n",
       "      <td>...</td>\n",
       "      <td>-0.332928</td>\n",
       "      <td>-0.332638</td>\n",
       "      <td>-0.33368</td>\n",
       "      <td>-0.338862</td>\n",
       "      <td>-0.331769</td>\n",
       "      <td>-0.330490</td>\n",
       "      <td>-0.335528</td>\n",
       "      <td>-0.332001</td>\n",
       "      <td>3.029541</td>\n",
       "      <td>-0.335297</td>\n",
       "    </tr>\n",
       "  </tbody>\n",
       "</table>\n",
       "<p>5 rows × 44 columns</p>\n",
       "</div>"
      ],
      "text/plain": [
       "       traffic_condition  event_count  is_holiday  \\\n",
       "25205           0.906035    -0.589580   -0.998127   \n",
       "5266            0.234991     0.325363    1.001877   \n",
       "6876            0.234991    -0.589580   -0.998127   \n",
       "18031           0.234991    -0.589580    1.001877   \n",
       "21984           0.234991     0.325363   -0.998127   \n",
       "\n",
       "       public_transport_availability  historical_delay_factor  is_weekend  \\\n",
       "25205                       0.746513                 0.287417   -0.625205   \n",
       "5266                       -0.740287                -0.962869   -0.625205   \n",
       "6876                        0.746513                 0.467229   -0.625205   \n",
       "18031                      -0.740287                -0.765427   -0.625205   \n",
       "21984                       0.746513                 0.783462   -0.625205   \n",
       "\n",
       "       traffic_condition_missing  route_day  route_time  route_day_time  ...  \\\n",
       "25205                  -0.748373   0.218324   -0.136682       -0.196991  ...   \n",
       "5266                   -0.748373   0.911608    0.406286        0.362229  ...   \n",
       "6876                    1.336232   0.221156   -0.136682       -0.156630  ...   \n",
       "18031                   1.336232  -0.343516   -0.574894       -0.598176  ...   \n",
       "21984                  -0.748373   1.241367    0.634791        0.962900  ...   \n",
       "\n",
       "       route_Central Jakarta to East Jakarta  \\\n",
       "25205                              -0.332928   \n",
       "5266                               -0.332928   \n",
       "6876                               -0.332928   \n",
       "18031                              -0.332928   \n",
       "21984                              -0.332928   \n",
       "\n",
       "       route_Central Jakarta to North Jakarta  \\\n",
       "25205                                3.006267   \n",
       "5266                                -0.332638   \n",
       "6876                                 3.006267   \n",
       "18031                               -0.332638   \n",
       "21984                               -0.332638   \n",
       "\n",
       "       route_Central Jakarta to South Jakarta  \\\n",
       "25205                                -0.33368   \n",
       "5266                                 -0.33368   \n",
       "6876                                 -0.33368   \n",
       "18031                                -0.33368   \n",
       "21984                                -0.33368   \n",
       "\n",
       "       route_Central Jakarta to West Jakarta  \\\n",
       "25205                              -0.338862   \n",
       "5266                               -0.338862   \n",
       "6876                               -0.338862   \n",
       "18031                              -0.338862   \n",
       "21984                              -0.338862   \n",
       "\n",
       "       route_North Jakarta to East Jakarta  \\\n",
       "25205                            -0.331769   \n",
       "5266                             -0.331769   \n",
       "6876                             -0.331769   \n",
       "18031                            -0.331769   \n",
       "21984                            -0.331769   \n",
       "\n",
       "       route_North Jakarta to South Jakarta  \\\n",
       "25205                             -0.330490   \n",
       "5266                               3.025807   \n",
       "6876                              -0.330490   \n",
       "18031                             -0.330490   \n",
       "21984                             -0.330490   \n",
       "\n",
       "       route_North Jakarta to West Jakarta  \\\n",
       "25205                            -0.335528   \n",
       "5266                             -0.335528   \n",
       "6876                             -0.335528   \n",
       "18031                            -0.335528   \n",
       "21984                            -0.335528   \n",
       "\n",
       "       route_South Jakarta to East Jakarta  \\\n",
       "25205                            -0.332001   \n",
       "5266                             -0.332001   \n",
       "6876                             -0.332001   \n",
       "18031                            -0.332001   \n",
       "21984                            -0.332001   \n",
       "\n",
       "       route_West Jakarta to East Jakarta  route_West Jakarta to South Jakarta  \n",
       "25205                           -0.330083                            -0.335297  \n",
       "5266                            -0.330083                            -0.335297  \n",
       "6876                            -0.330083                            -0.335297  \n",
       "18031                           -0.330083                             2.982426  \n",
       "21984                            3.029541                            -0.335297  \n",
       "\n",
       "[5 rows x 44 columns]"
      ]
     },
     "execution_count": 40,
     "metadata": {},
     "output_type": "execute_result"
    }
   ],
   "source": [
    "scaler = StandardScaler()\n",
    "\n",
    "# Select only numerical columns (excluding datetime)\n",
    "num_features = X_train_concat.select_dtypes(include=['float64', 'int64']).columns\n",
    "# Fitur yang perlu diskalakan\n",
    "#num_features = ['traffic_condition', 'public_transport_availability', 'historical_delay_factor', 'vehicle_density_encoded', \n",
    "#                'population_density_encoded', 'event_count_category_encoded']\n",
    "'''categorical_features_encoded = ['is_holiday', 'start_point_Central Jakarta (Jakarta Pusat)', 'start_point_North Jakarta (Jakarta Utara)', \n",
    "                                'start_point_South Jakarta (Jakarta Selatan)', \n",
    "                                'start_point_West Jakarta (Jakarta Barat)', 'end_point_East Jakarta (Jakarta Timur)', \n",
    "                                'end_point_North Jakarta (Jakarta Utara)', \n",
    "                                'end_point_South Jakarta (Jakarta Selatan)', 'end_point_West Jakarta (Jakarta Barat)', 'time_of_day_day', \n",
    "                                'time_of_day_evening', \n",
    "                                'time_of_day_morning', 'time_of_day_night', 'day_of_week_Friday', 'day_of_week_Monday', 'day_of_week_Saturday', \n",
    "                                'day_of_week_Sunday', \n",
    "                                'day_of_week_Thursday', 'day_of_week_Tuesday', 'day_of_week_Wednesday', 'weather_clear', 'weather_fog', \n",
    "                                'weather_missing', \n",
    "                                'weather_rain', 'weather_storm', 'vehicle_density_missing', 'population_density_missing']\n",
    "#features_to_scale = ['sold_price', 'sqft']'''\n",
    "\n",
    "# Menskalakan fitur yang dipilih menggunakan StandardScaler\n",
    "X_train_num_scaled = scaler.fit_transform(X_train_concat[num_features])\n",
    "X_test_num_scaled = scaler.transform(X_test_concat[num_features])\n",
    "\n",
    "# Convert back to DataFrame\n",
    "X_train_scaled = pd.DataFrame(X_train_num_scaled, \n",
    "                            columns=num_features, \n",
    "                            index=X_train_concat.index)\n",
    "\n",
    "X_test_scaled = pd.DataFrame(X_test_num_scaled,\n",
    "                           columns=num_features,\n",
    "                           index=X_test_concat.index)\n",
    "\n",
    "# 5. Pilih kolom kategorikal (yang tidak di-scale) dari DataFrame asli\n",
    "#X_train_categorical = X_train_concat[categorical_features_encoded]\n",
    "#X_test_categorical = X_test_concat[categorical_features_encoded]\n",
    "\n",
    "# 6. GABUNGKAN KEMBALI kedua DataFrame tersebut\n",
    "#X_train_scaled = pd.concat([X_train_scaled, X_train_categorical], axis=1)\n",
    "#X_test_scaled = pd.concat([X_test_scaled, X_test_categorical], axis=1)\n",
    "\n",
    "# Optionally add back the datetime columns\n",
    "#X_train_scaled['sold_date'] = X_train_concat['sold_date']\n",
    "#X_test_scaled['sold_date'] = X_test_concat['sold_date']\n",
    "\n",
    "# Now you can use .head()\n",
    "X_train_scaled.head()"
   ]
  },
  {
   "cell_type": "code",
   "execution_count": 140,
   "id": "4626b446-61f5-47dd-bccc-4653326707fa",
   "metadata": {},
   "outputs": [
    {
     "name": "stdout",
     "output_type": "stream",
     "text": [
      "Pasangan Fitur Berkorelasi Tinggi:\n",
      "            level_0         level_1         0\n",
      "404  route_day_time      route_time  0.981554\n",
      "361      route_time  route_day_time  0.981554\n",
      "403  route_day_time       route_day  0.941910\n",
      "317       route_day  route_day_time  0.941910\n",
      "316       route_day      route_time  0.929473\n",
      "359      route_time       route_day  0.929473\n"
     ]
    }
   ],
   "source": [
    "corr_matrix = X_train_scaled.select_dtypes(include=['float64', 'int64']).corr()\n",
    "\n",
    "high_corr_pairs = corr_matrix.abs().stack().reset_index()\n",
    "high_corr_pairs = high_corr_pairs[\n",
    "    (high_corr_pairs[0] > 0.8) &  # Threshold korelasi\n",
    "    (high_corr_pairs['level_0'] != high_corr_pairs['level_1'])  # Hindari diagonal\n",
    "]\n",
    "print(\"Pasangan Fitur Berkorelasi Tinggi:\")\n",
    "print(high_corr_pairs.sort_values(0, ascending=False))"
   ]
  },
  {
   "cell_type": "code",
   "execution_count": 105,
   "id": "3b2234d9-8f5c-48f0-bf4d-eb5d536cf89b",
   "metadata": {},
   "outputs": [
    {
     "name": "stdout",
     "output_type": "stream",
     "text": [
      "start_point_North Jakarta        0.423579\n",
      "public_transport_availability    0.249521\n",
      "end_point_East Jakarta           0.245321\n",
      "time_of_day_evening              0.196624\n",
      "start_point_West Jakarta         0.134259\n",
      "end_point_North Jakarta          0.107407\n",
      "vehicle_density_low              0.105173\n",
      "day_of_week_Friday               0.103690\n",
      "time_of_day_morning              0.086930\n",
      "historical_delay_factor          0.052362\n",
      "day_of_week_Sunday               0.042287\n",
      "day_of_week_Saturday             0.041863\n",
      "population_density_high          0.023150\n",
      "vehicle_density_medium           0.010408\n",
      "weather_fog                      0.009086\n",
      "traffic_condition_missing        0.008932\n",
      "is_holiday                       0.004438\n",
      "traffic_condition                0.001507\n",
      "weather_missing                  0.000612\n",
      "weather_rain                    -0.000181\n",
      "end_point_South Jakarta         -0.000626\n",
      "population_density_missing      -0.002823\n",
      "weather_clear                   -0.003537\n",
      "population_density_low          -0.003808\n",
      "vehicle_density_missing         -0.005309\n",
      "weather_storm                   -0.006221\n",
      "population_density_medium       -0.010408\n",
      "event_count                     -0.018584\n",
      "day_of_week_Thursday            -0.037340\n",
      "day_of_week_Wednesday           -0.047780\n",
      "day_of_week_Tuesday             -0.047974\n",
      "time_of_day_day                 -0.048558\n",
      "day_of_week_Monday              -0.054200\n",
      "vehicle_density_high            -0.130381\n",
      "time_of_day_night               -0.234677\n",
      "start_point_Central Jakarta     -0.301539\n",
      "start_point_South Jakarta       -0.333205\n",
      "end_point_West Jakarta          -0.376783\n",
      "Name: target, dtype: float64\n"
     ]
    }
   ],
   "source": [
    "# Gabungkan fitur dan target menjadi satu DataFrame\n",
    "df_corr = X_train_scaled.copy()\n",
    "df_corr['target'] = y_train\n",
    "\n",
    "# Hitung korelasi\n",
    "corr_matrix = df_corr.corr()\n",
    "\n",
    "# Ambil korelasi antara fitur dan target\n",
    "target_corr = corr_matrix['target'].drop('target').sort_values(ascending=False)\n",
    "\n",
    "print(target_corr)"
   ]
  },
  {
   "cell_type": "markdown",
   "id": "eb16a094-d67a-4960-b2f7-d744a9242353",
   "metadata": {},
   "source": [
    "# Modelling"
   ]
  },
  {
   "cell_type": "code",
   "execution_count": 41,
   "id": "9f970a6b-a6ce-431c-ba96-b9ae43e0a6c6",
   "metadata": {},
   "outputs": [
    {
     "data": {
      "text/plain": [
       "((32000, 44), (8000, 44), (32000,))"
      ]
     },
     "execution_count": 41,
     "metadata": {},
     "output_type": "execute_result"
    }
   ],
   "source": [
    "X_train_scaled.shape, X_test_scaled.shape, y_train.shape"
   ]
  },
  {
   "cell_type": "markdown",
   "id": "7043abdc-6cfd-4fe0-8f4a-46b06e196a01",
   "metadata": {},
   "source": [
    "### Linear Regression"
   ]
  },
  {
   "cell_type": "code",
   "execution_count": 42,
   "id": "721610b6-0a83-4bfb-81c8-46123e698de1",
   "metadata": {},
   "outputs": [],
   "source": [
    "from sklearn.linear_model import LinearRegression\n",
    "\n",
    "\n",
    "lr = LinearRegression()\n",
    "lr.fit(X_train_scaled, y_train)\n",
    "\n",
    "y_predict_lr = lr.predict(X_test_scaled)"
   ]
  },
  {
   "cell_type": "code",
   "execution_count": 43,
   "id": "122d72bb-9bdd-4797-80f2-696401a91159",
   "metadata": {},
   "outputs": [
    {
     "name": "stdout",
     "output_type": "stream",
     "text": [
      "📊 Evaluasi Model pada Data Train:\n",
      "MAE  : 2.6898\n",
      "RMSE : 3.7133\n",
      "MSE  : 13.7886\n",
      "R²   : 0.9368\n"
     ]
    }
   ],
   "source": [
    "# Evaluasi\n",
    "mse = mean_squared_error(y_test, y_predict_lr)\n",
    "rmse = np.sqrt(mse)\n",
    "mae = mean_absolute_error(y_test, y_predict_lr)\n",
    "r2 = r2_score(y_test, y_predict_lr)\n",
    "\n",
    "# Tampilkan hasil\n",
    "print(\"📊 Evaluasi Model pada Data Train:\")\n",
    "print(f\"MAE  : {mae:.4f}\")\n",
    "print(f\"RMSE : {rmse:.4f}\")\n",
    "print(f\"MSE  : {mse:.4f}\")\n",
    "print(f\"R²   : {r2:.4f}\")"
   ]
  },
  {
   "cell_type": "markdown",
   "id": "a7eac943-ab9d-4118-a9b9-a6fee5be1f38",
   "metadata": {},
   "source": [
    "## Ridge Regression"
   ]
  },
  {
   "cell_type": "code",
   "execution_count": 43,
   "id": "16533b0a-598e-44ee-919f-337814db3701",
   "metadata": {},
   "outputs": [],
   "source": [
    "from sklearn.linear_model import Ridge\n",
    "\n",
    "\n",
    "rr_model = Ridge(random_state=23)\n",
    "rr_model.fit(X_train_scaled, y_train)\n",
    "\n",
    "y_pred_rr = rr_model.predict(X_test_scaled)"
   ]
  },
  {
   "cell_type": "code",
   "execution_count": 44,
   "id": "30ceaff5-3fbc-403e-b946-3618e934cf75",
   "metadata": {},
   "outputs": [
    {
     "name": "stdout",
     "output_type": "stream",
     "text": [
      "📊 Evaluasi Model pada Data Train:\n",
      "MAE  : 3.3000\n",
      "RMSE : 4.4718\n",
      "MSE  : 19.9973\n",
      "R²   : 0.9083\n"
     ]
    }
   ],
   "source": [
    "# Evaluasi\n",
    "mse = mean_squared_error(y_test, y_pred_rr)\n",
    "rmse = np.sqrt(mse)\n",
    "mae = mean_absolute_error(y_test, y_pred_rr)\n",
    "r2 = r2_score(y_test, y_pred_rr)\n",
    "\n",
    "# Tampilkan hasil\n",
    "print(\"📊 Evaluasi Model pada Data Train:\")\n",
    "print(f\"MAE  : {mae:.4f}\")\n",
    "print(f\"RMSE : {rmse:.4f}\")\n",
    "print(f\"MSE  : {mse:.4f}\")\n",
    "print(f\"R²   : {r2:.4f}\")"
   ]
  },
  {
   "cell_type": "markdown",
   "id": "a960fdca-7e21-49c0-a7c6-9fa367f4f881",
   "metadata": {},
   "source": [
    "## Stacking"
   ]
  },
  {
   "cell_type": "code",
   "execution_count": 106,
   "id": "25c1ba47-04c6-4504-82c5-42119499f38c",
   "metadata": {},
   "outputs": [],
   "source": [
    "from sklearn.ensemble import RandomForestRegressor, StackingRegressor\n",
    "from xgboost import XGBRegressor\n",
    "\n",
    "\n",
    "# Base models (Layer 1)\n",
    "base_models = [\n",
    "    ('random_forest', RandomForestRegressor(n_estimators=100, random_state=42)),\n",
    "    ('xgboost', XGBRegressor(n_estimators=100, random_state=42))\n",
    "]\n",
    "\n",
    "# Meta-model (Layer 2)\n",
    "meta_model = LinearRegression()\n",
    "\n",
    "# Inisialisasi Stacking Regressor\n",
    "stacking_model = StackingRegressor(\n",
    "    estimators=base_models,\n",
    "    final_estimator=meta_model,\n",
    "    cv=5,  # Cross-validation untuk training meta-model\n",
    "    passthrough=False  # Gunakan hanya prediksi base models sebagai input meta-model\n",
    ")"
   ]
  },
  {
   "cell_type": "code",
   "execution_count": 108,
   "id": "7c468a8c-5f8e-4275-bb2a-05c7cb53ac28",
   "metadata": {},
   "outputs": [
    {
     "name": "stdout",
     "output_type": "stream",
     "text": [
      "📊 Evaluasi Model pada Data Train:\n",
      "MAE  : 2.7052\n",
      "RMSE : 3.8247\n",
      "MSE  : 14.6283\n",
      "R²   : 0.9329\n"
     ]
    }
   ],
   "source": [
    "# Training\n",
    "stacking_model.fit(X_train_scaled, y_train)\n",
    "\n",
    "# Prediksi\n",
    "y_pred_s = stacking_model.predict(X_test_scaled)\n",
    "\n",
    "# Evaluasi\n",
    "mse = mean_squared_error(y_test, y_pred_s)\n",
    "rmse = np.sqrt(mse)\n",
    "mae = mean_absolute_error(y_test, y_pred_s)\n",
    "r2 = r2_score(y_test, y_pred_s)\n",
    "\n",
    "# Tampilkan hasil\n",
    "print(\"📊 Evaluasi Model pada Data Train:\")\n",
    "print(f\"MAE  : {mae:.4f}\")\n",
    "print(f\"RMSE : {rmse:.4f}\")\n",
    "print(f\"MSE  : {mse:.4f}\")\n",
    "print(f\"R²   : {r2:.4f}\")"
   ]
  },
  {
   "cell_type": "code",
   "execution_count": 109,
   "id": "e5e31a2a-a49d-49ca-8e35-9049b4498ee0",
   "metadata": {},
   "outputs": [
    {
     "name": "stdout",
     "output_type": "stream",
     "text": [
      "random_forest MAE: 2.77\n",
      "xgboost MAE: 2.74\n",
      "\n",
      "Perbandingan MAE:\n",
      "Random Forest: 2.77\n",
      "XGBoost: 2.74\n",
      "Stacking: 2.71\n"
     ]
    }
   ],
   "source": [
    "# Prediksi dari setiap base model\n",
    "for name, model in base_models:\n",
    "    model.fit(X_train_scaled, y_train)\n",
    "    pred = model.predict(X_test_scaled)\n",
    "    print(f\"{name} MAE: {mean_absolute_error(y_test, pred):.2f}\")\n",
    "\n",
    "# Bandingkan dengan model individu\n",
    "rf_mae = mean_absolute_error(y_test, base_models[0][1].predict(X_test_scaled))\n",
    "xgb_mae = mean_absolute_error(y_test, base_models[1][1].predict(X_test_scaled))\n",
    "stack_mae = mean_absolute_error(y_test, y_pred_s)\n",
    "\n",
    "print(f\"\\nPerbandingan MAE:\\nRandom Forest: {rf_mae:.2f}\\nXGBoost: {xgb_mae:.2f}\\nStacking: {stack_mae:.2f}\")"
   ]
  },
  {
   "cell_type": "markdown",
   "id": "9bc10484-5071-45fa-8b3b-e60068f57b13",
   "metadata": {},
   "source": [
    "# Making Simple Pipeline"
   ]
  },
  {
   "cell_type": "markdown",
   "id": "873f70cf-44ad-45de-adb7-72c724a072c2",
   "metadata": {},
   "source": [
    "## Load Data"
   ]
  },
  {
   "cell_type": "code",
   "execution_count": 3,
   "id": "5686c772-6c93-4928-9ab3-df661cf851f0",
   "metadata": {},
   "outputs": [
    {
     "data": {
      "text/html": [
       "<div>\n",
       "<style scoped>\n",
       "    .dataframe tbody tr th:only-of-type {\n",
       "        vertical-align: middle;\n",
       "    }\n",
       "\n",
       "    .dataframe tbody tr th {\n",
       "        vertical-align: top;\n",
       "    }\n",
       "\n",
       "    .dataframe thead th {\n",
       "        text-align: right;\n",
       "    }\n",
       "</style>\n",
       "<table border=\"1\" class=\"dataframe\">\n",
       "  <thead>\n",
       "    <tr style=\"text-align: right;\">\n",
       "      <th></th>\n",
       "      <th>start_point</th>\n",
       "      <th>end_point</th>\n",
       "      <th>time_of_day</th>\n",
       "      <th>day_of_week</th>\n",
       "      <th>traffic_condition</th>\n",
       "      <th>event_count</th>\n",
       "      <th>is_holiday</th>\n",
       "      <th>vehicle_density</th>\n",
       "      <th>population_density</th>\n",
       "      <th>weather</th>\n",
       "      <th>public_transport_availability</th>\n",
       "      <th>historical_delay_factor</th>\n",
       "      <th>travel_time</th>\n",
       "    </tr>\n",
       "  </thead>\n",
       "  <tbody>\n",
       "    <tr>\n",
       "      <th>0</th>\n",
       "      <td>West Jakarta (Jakarta Barat)</td>\n",
       "      <td>South Jakarta (Jakarta Selatan)</td>\n",
       "      <td>day</td>\n",
       "      <td>Sunday</td>\n",
       "      <td>NaN</td>\n",
       "      <td>9</td>\n",
       "      <td>1</td>\n",
       "      <td>NaN</td>\n",
       "      <td>high</td>\n",
       "      <td>NaN</td>\n",
       "      <td>1</td>\n",
       "      <td>0.878909</td>\n",
       "      <td>26.907612</td>\n",
       "    </tr>\n",
       "    <tr>\n",
       "      <th>1</th>\n",
       "      <td>West Jakarta (Jakarta Barat)</td>\n",
       "      <td>South Jakarta (Jakarta Selatan)</td>\n",
       "      <td>morning</td>\n",
       "      <td>Thursday</td>\n",
       "      <td>NaN</td>\n",
       "      <td>7</td>\n",
       "      <td>1</td>\n",
       "      <td>medium</td>\n",
       "      <td>high</td>\n",
       "      <td>NaN</td>\n",
       "      <td>1</td>\n",
       "      <td>1.081668</td>\n",
       "      <td>27.489129</td>\n",
       "    </tr>\n",
       "    <tr>\n",
       "      <th>2</th>\n",
       "      <td>Central Jakarta (Jakarta Pusat)</td>\n",
       "      <td>East Jakarta (Jakarta Timur)</td>\n",
       "      <td>morning</td>\n",
       "      <td>Thursday</td>\n",
       "      <td>NaN</td>\n",
       "      <td>7</td>\n",
       "      <td>0</td>\n",
       "      <td>medium</td>\n",
       "      <td>low</td>\n",
       "      <td>NaN</td>\n",
       "      <td>2</td>\n",
       "      <td>1.192379</td>\n",
       "      <td>27.228978</td>\n",
       "    </tr>\n",
       "    <tr>\n",
       "      <th>3</th>\n",
       "      <td>West Jakarta (Jakarta Barat)</td>\n",
       "      <td>South Jakarta (Jakarta Selatan)</td>\n",
       "      <td>morning</td>\n",
       "      <td>Friday</td>\n",
       "      <td>10.0</td>\n",
       "      <td>9</td>\n",
       "      <td>0</td>\n",
       "      <td>medium</td>\n",
       "      <td>high</td>\n",
       "      <td>fog</td>\n",
       "      <td>1</td>\n",
       "      <td>0.833348</td>\n",
       "      <td>33.943970</td>\n",
       "    </tr>\n",
       "    <tr>\n",
       "      <th>4</th>\n",
       "      <td>Central Jakarta (Jakarta Pusat)</td>\n",
       "      <td>West Jakarta (Jakarta Barat)</td>\n",
       "      <td>day</td>\n",
       "      <td>Tuesday</td>\n",
       "      <td>NaN</td>\n",
       "      <td>7</td>\n",
       "      <td>0</td>\n",
       "      <td>medium</td>\n",
       "      <td>high</td>\n",
       "      <td>rain</td>\n",
       "      <td>2</td>\n",
       "      <td>0.966819</td>\n",
       "      <td>20.603115</td>\n",
       "    </tr>\n",
       "  </tbody>\n",
       "</table>\n",
       "</div>"
      ],
      "text/plain": [
       "                       start_point                        end_point  \\\n",
       "0     West Jakarta (Jakarta Barat)  South Jakarta (Jakarta Selatan)   \n",
       "1     West Jakarta (Jakarta Barat)  South Jakarta (Jakarta Selatan)   \n",
       "2  Central Jakarta (Jakarta Pusat)     East Jakarta (Jakarta Timur)   \n",
       "3     West Jakarta (Jakarta Barat)  South Jakarta (Jakarta Selatan)   \n",
       "4  Central Jakarta (Jakarta Pusat)     West Jakarta (Jakarta Barat)   \n",
       "\n",
       "  time_of_day day_of_week  traffic_condition  event_count  is_holiday  \\\n",
       "0         day      Sunday                NaN            9           1   \n",
       "1     morning    Thursday                NaN            7           1   \n",
       "2     morning    Thursday                NaN            7           0   \n",
       "3     morning      Friday               10.0            9           0   \n",
       "4         day     Tuesday                NaN            7           0   \n",
       "\n",
       "  vehicle_density population_density weather  public_transport_availability  \\\n",
       "0             NaN               high     NaN                              1   \n",
       "1          medium               high     NaN                              1   \n",
       "2          medium                low     NaN                              2   \n",
       "3          medium               high     fog                              1   \n",
       "4          medium               high    rain                              2   \n",
       "\n",
       "   historical_delay_factor  travel_time  \n",
       "0                 0.878909    26.907612  \n",
       "1                 1.081668    27.489129  \n",
       "2                 1.192379    27.228978  \n",
       "3                 0.833348    33.943970  \n",
       "4                 0.966819    20.603115  "
      ]
     },
     "execution_count": 3,
     "metadata": {},
     "output_type": "execute_result"
    }
   ],
   "source": [
    "df = pd.read_csv('dataset/train_sample.csv')\n",
    "\n",
    "y = df['travel_time']\n",
    "X = df.drop(['travel_time'], axis=1)\n",
    "df.head()"
   ]
  },
  {
   "cell_type": "markdown",
   "id": "2b525885-069d-47f0-a065-570615ebe0f4",
   "metadata": {},
   "source": [
    "## Feature Engineering"
   ]
  },
  {
   "cell_type": "code",
   "execution_count": null,
   "id": "fdea9266-56d3-4910-b0c3-8cd88540db62",
   "metadata": {},
   "outputs": [],
   "source": [
    "train_sample = pd.read_csv('dataset/train_sample.csv')\n",
    "\n",
    "train_sample['start_point'] = train_sample['start_point'].str.split(' (', regex=False).str[0]\n",
    "train_sample['end_point'] = train_sample['end_point'].str.split(' (', regex=False).str[0]\n",
    "\n",
    "train_sample['route'] = train_sample['start_point'] + ' to ' + train_sample['end_point']\n",
    "\n",
    "train_sample = train_sample.drop(['start_point', 'end_point'], axis=1)\n",
    "\n",
    "train_sample['day_of_week'] = train_sample['day_of_week'].str.lower()\n",
    "\n",
    "# Buat fitur is_weekend (1 untuk Sabtu/Minggu, 0 untuk hari lain)\n",
    "train_sample['is_weekend'] = train_sample['day_of_week'].apply(\n",
    "    lambda x: 1 if x in ['saturday', 'sunday'] else 0\n",
    ")\n",
    "\n",
    "# 2. Gabungkan route dengan day_of_week\n",
    "train_sample['route_day'] = train_sample['route'] + '_' + train_sample['day_of_week']\n",
    "\n",
    "# 3. Gabungkan route dengan time_of_day (opsional)\n",
    "train_sample['route_time'] = train_sample['route'] + '_' + train_sample['time_of_day']\n",
    "\n",
    "# 4. Gabungkan route, hari, dan waktu sekaligus (opsional)\n",
    "train_sample['route_day_time'] = train_sample['route'] + '_' + train_sample['day_of_week'] + '_' + train_sample['time_of_day']\n",
    "\n",
    "obj_nan = ['vehicle_density', 'population_density', 'weather']\n",
    "for col in obj_nan:\n",
    "    train_sample[col] = train_sample[col].str.lower()\n",
    "    train_sample[col] = train_sample[col].replace('nan',np.nan)\n",
    "    train_sample[col] = train_sample[col].fillna('missing')\n",
    "\n",
    "train_sample['traffic_condition_missing'] = train_sample['traffic_condition'].isna().astype(int)\n",
    "\n",
    "train_sample['traffic_condition'] = train_sample['traffic_condition'].fillna(train_sample['traffic_condition'].mode()[0])\n",
    "\n",
    "# Log transform\n",
    "train_sample['event_count'] = np.log1p(train_sample['event_count'])\n",
    "\n",
    "y = train_sample['travel_time']\n",
    "X = train_sample.drop(['travel_time'], axis=1)\n",
    "\n",
    "X_train, X_test, y_train, y_test = train_test_split(X, y, test_size=0.2, random_state=23)\n",
    "\n",
    "X_train_num = X_train._get_numeric_data()\n",
    "X_test_num = X_test._get_numeric_data()\n",
    "\n",
    "X_train_cat = X_train.drop(list(X_train_num.columns.values), axis=1)\n",
    "X_test_cat = X_test.drop(list(X_test_num.columns.values), axis=1)\n",
    "\n",
    "ohe = OneHotEncoder(sparse_output=False, handle_unknown='ignore')\n",
    "\n",
    "cat_feature = X_train_cat[['time_of_day', 'day_of_week', 'vehicle_density', 'population_density', 'weather', 'route']]\n",
    "cat_feature_test = X_test_cat[['time_of_day', 'day_of_week', 'vehicle_density', 'population_density', 'weather', 'route']]\n",
    "\n",
    "cat_encoded = ohe.fit_transform(cat_feature)\n",
    "cat_encoded_test = ohe.transform(cat_feature_test)\n",
    "\n",
    "cat_encoded_df = pd.DataFrame(cat_encoded, columns=ohe.get_feature_names_out(cat_feature.columns), index=X_train_cat.index)\n",
    "cat_encoded_df_test = pd.DataFrame(cat_encoded_test, columns=ohe.get_feature_names_out(cat_feature_test.columns), index=X_test_cat.index)\n",
    "\n",
    "X_train_cat = X_train_cat.drop(['time_of_day', 'day_of_week', 'vehicle_density', 'population_density', 'weather', 'route'], axis=1)\n",
    "X_train_cat = pd.concat([X_train_cat, cat_encoded_df], axis=1)\n",
    "\n",
    "X_test_cat = X_test_cat.drop(['time_of_day', 'day_of_week', 'vehicle_density', 'population_density', 'weather', 'route'], axis=1)\n",
    "X_test_cat = pd.concat([X_test_cat, cat_encoded_df_test], axis=1)\n",
    "\n",
    "X_train_encoded = X_train_cat.copy()\n",
    "X_test_encoded = X_test_cat.copy()\n",
    "\n",
    "target_encode_cols = ['route_day', 'route_time', 'route_day_time']\n",
    "\n",
    "for col in target_encode_cols:\n",
    "    # Menggabungkan X dan y agar bisa groupby dengan y_train\n",
    "    temp_df = X_train_cat.copy()\n",
    "    temp_df['target'] = y_train.values\n",
    "\n",
    "    # Hitung rata-rata target untuk setiap kategori\n",
    "    mean_encoded = temp_df.groupby(col)['target'].mean()\n",
    "\n",
    "    # Mapping ke training dan test\n",
    "    X_train_encoded[col] = X_train_cat[col].map(mean_encoded)\n",
    "    global_mean = y_train.mean()\n",
    "    X_test_encoded[col] = X_test_cat[col].map(mean_encoded).fillna(global_mean)\n",
    "\n",
    "# Gabungkan kembali\n",
    "X_train_concat = pd.concat([X_train_num, X_train_encoded], axis=1)\n",
    "X_test_concat = pd.concat([X_test_num, X_test_encoded], axis=1)\n",
    "\n",
    "scaler = StandardScaler()\n",
    "\n",
    "# Select only numerical columns (excluding datetime)\n",
    "num_features = X_train_concat.select_dtypes(include=['float64', 'int64']).columns\n",
    "\n",
    "# Menskalakan fitur yang dipilih menggunakan StandardScaler\n",
    "X_train_num_scaled = scaler.fit_transform(X_train_concat[num_features])\n",
    "X_test_num_scaled = scaler.transform(X_test_concat[num_features])\n",
    "\n",
    "# Convert back to DataFrame\n",
    "X_train_scaled = pd.DataFrame(X_train_num_scaled, \n",
    "                            columns=num_features, \n",
    "                            index=X_train_concat.index)\n",
    "\n",
    "X_test_scaled = pd.DataFrame(X_test_num_scaled,\n",
    "                           columns=num_features,\n",
    "                           index=X_test_concat.index)\n",
    "\n",
    "X_train_scaled.shape, X_test_scaled.shape, y_train.shape\n",
    "\n",
    "from sklearn.linear_model import LinearRegression\n",
    "\n",
    "\n",
    "lr = LinearRegression()\n",
    "lr.fit(X_train_scaled, y_train)\n",
    "\n",
    "y_predict_lr = lr.predict(X_test_scaled)\n",
    "\n",
    "# Evaluasi\n",
    "mse = mean_squared_error(y_test, y_predict_lr)\n",
    "rmse = np.sqrt(mse)\n",
    "mae = mean_absolute_error(y_test, y_predict_lr)\n",
    "r2 = r2_score(y_test, y_predict_lr)\n",
    "\n",
    "# Tampilkan hasil\n",
    "print(\"📊 Evaluasi Model pada Data Train:\")\n",
    "print(f\"MAE  : {mae:.4f}\")\n",
    "print(f\"RMSE : {rmse:.4f}\")\n",
    "print(f\"MSE  : {mse:.4f}\")\n",
    "print(f\"R²   : {r2:.4f}\")"
   ]
  },
  {
   "cell_type": "code",
   "execution_count": null,
   "id": "7d33d77a-33a0-42d2-b2dc-4d63093e6330",
   "metadata": {},
   "outputs": [],
   "source": []
  },
  {
   "cell_type": "markdown",
   "id": "0718cf74-6357-4227-81cc-c373d07350ee",
   "metadata": {},
   "source": [
    "## Preprocessing Pipeline"
   ]
  },
  {
   "cell_type": "code",
   "execution_count": null,
   "id": "2c0c9b5b-7d31-4d0f-bfc1-6102a2114f0e",
   "metadata": {},
   "outputs": [],
   "source": [
    "numeric_pipeline = Pipeline([\n",
    "    (\"impute\", SimpleImputer(strategy=\"median\")),\n",
    "    (\"scale\", RobustScaler())\n",
    "])\n",
    "\n",
    "categoric_pipeline = Pipeline([\n",
    "    (\"impute\", SimpleImputer(strategy=\"most_frequent\")),\n",
    "    (\"encode\", OneHotEncoder(drop=\"first\", handle_unknown=\"ignore\", sparse_output=False))\n",
    "])\n",
    "\n",
    "preprocessor = ColumnTransformer([\n",
    "    (\"numeric\", numeric_pipeline, ['event_count', 'historical_delay_factor', 'traffic_condition']),\n",
    "    (\"categoric\", categoric_pipeline, ['start_point', 'end_point', 'time_of_day', 'day_of_week', 'is_holiday', 'public_transport_availability', 'vehicle_density', 'population_density', 'weather']),\n",
    "])"
   ]
  }
 ],
 "metadata": {
  "kernelspec": {
   "display_name": "Python 3 (ipykernel)",
   "language": "python",
   "name": "python3"
  },
  "language_info": {
   "codemirror_mode": {
    "name": "ipython",
    "version": 3
   },
   "file_extension": ".py",
   "mimetype": "text/x-python",
   "name": "python",
   "nbconvert_exporter": "python",
   "pygments_lexer": "ipython3",
   "version": "3.10.18"
  }
 },
 "nbformat": 4,
 "nbformat_minor": 5
}
